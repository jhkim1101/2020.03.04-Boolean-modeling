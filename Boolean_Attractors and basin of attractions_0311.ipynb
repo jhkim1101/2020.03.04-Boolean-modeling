{
 "cells": [
  {
   "cell_type": "code",
   "execution_count": 133,
   "metadata": {},
   "outputs": [],
   "source": [
    "import numpy as np\n",
    "import itertools "
   ]
  },
  {
   "cell_type": "code",
   "execution_count": 134,
   "metadata": {},
   "outputs": [
    {
     "name": "stdout",
     "output_type": "stream",
     "text": [
      "[[ 0  0]\n",
      " [-2  1]\n",
      " [ 1  0]\n",
      " [-1  1]]\n"
     ]
    }
   ],
   "source": [
    "# simple case; starts with 2 nodes and simple logic \n",
    "# all nodes \n",
    "logic = np.array([[1,0],\n",
    "                  [-2,1]])\n",
    "initial = np.array([[0, 0],[0, 1],[1, 0],[1, 1]])\n",
    "\n",
    "trajectory = initial.dot(logic)\n",
    "print(trajectory)"
   ]
  },
  {
   "cell_type": "code",
   "execution_count": 135,
   "metadata": {},
   "outputs": [
    {
     "name": "stdout",
     "output_type": "stream",
     "text": [
      "[[-3  1 -2]\n",
      " [-2  2  2]\n",
      " [-2 -2 -1]]\n"
     ]
    }
   ],
   "source": [
    "random_logic = np.random.randint(-3, 3,(3,3))\n",
    "print(random_logic)"
   ]
  },
  {
   "cell_type": "code",
   "execution_count": 136,
   "metadata": {},
   "outputs": [
    {
     "name": "stdout",
     "output_type": "stream",
     "text": [
      "set()\n"
     ]
    }
   ],
   "source": [
    "# number = 10 by 2^10 array \n",
    "#initial_state = np.array((2^10, 10))\n",
    "\n",
    "k =4\n",
    "#ini_state = [np.array(i,2**i) for i in itertools.product([0,1], repeat = k)] # able to change repeat value \n",
    "ini_state = [list(i) for i in itertools.product([0,1], repeat = k)] \n",
    "\n",
    "n = 2**(k)\n",
    "\n",
    "#logic_n10 = np.array([[1,0],[-2,1],[2,3],[-2,-4],[1,0],[5,0],[-3,1],[1,-1],[2,2],[3,-2]])\n",
    "logic_n3 = np.array([[1,0,1,2],[-2,-5,3,1],[-3,1,0,2],[1,3,-2,-1]])\n",
    "#random_logic = np.random.randint(-3, 3,(n,n)) # matrix\n",
    "#random_logic = np.random.randint(-3,3, size = (n,n))\n",
    "#print(n)\n",
    "#print(random_logic)\n",
    "\n",
    "trajectory =[]\n",
    "attractors =[]\n",
    "attractors_dup =[]\n",
    "#for i in range(0,7): # 2^n -1 \n",
    "\n",
    "for i in range(0,k):\n",
    "    current = ini_state[0]\n",
    "    trajectory.append(ini_state[i])\n",
    "    #next_state = random_logic.dot(ini_state[i])\n",
    "    next_state = logic_n3.dot(ini_state[i])\n",
    "    \n",
    "    def weight_sum(next_state):\n",
    "        for idx in range(next_state.shape[0]):\n",
    "            if next_state[idx] >= 0:\n",
    "                next_state[idx] =1\n",
    "            else:\n",
    "                next_state[idx] =0\n",
    "        return next_state\n",
    "    \n",
    "########### check whether there is same array in trajectory ######\n",
    "        if weight_sum(next_state) in trajectory:\n",
    "            attractor.append(weight_sum(next_state)) # 나중에 한꺼번에 count할 것이기 때문에 반복해서 만들어져도 괜찮음? \n",
    "        else: # if there is no same array in trajectory\n",
    "            trajectory.append(weight_sum(next_state))\n",
    "#print(next_state)\n",
    "#print(trajectory)\n",
    "#print(type(next_state))\n",
    "#print(attractors)   \n",
    "\n",
    "for item in attractors:\n",
    "    if attractors.count(item) > 1:\n",
    "        attractors_dup.append(item)\n",
    "\n",
    "attractors_dup_set = set(attractors_dup)\n",
    "\n",
    "print(attractors_dup_set)   \n",
    "    \n",
    "# if specific array in trajectory -> assign it as attractor\n",
    "# trajcetory에 이미 존재한다면 끌개로 분류한 다음에 끌개 저장 공강 및 끌개유역크기 저장배열을 만들고, 끌개 유역 크기 저장배열에 1을 입력\n",
    "# 다음 끌개 만들때 이미 존재하는 끌개라면 끌개 크기 하나 더 만들고 다음 끌개 저장공간에 저장 \n",
    "# 만약 없다면 저장하고 초기조건 다음 array에 대해서 한다. \n",
    "\n"
   ]
  },
  {
   "cell_type": "code",
   "execution_count": 137,
   "metadata": {},
   "outputs": [
    {
     "name": "stdout",
     "output_type": "stream",
     "text": [
      "1 :: 2\n",
      "3 :: 2\n"
     ]
    }
   ],
   "source": [
    "trajectory = [1,1,2,3,3]\n",
    "\n",
    "def dup(trajectory):\n",
    "    attractors = dict()\n",
    "    for elem in trajectory:\n",
    "        if elem in attractors:\n",
    "            attractors[elem] +=1\n",
    "        else:\n",
    "            attractors[elem] = 1\n",
    "    attractors = { key:value for key, value in attractors.items() if value >1}\n",
    "    return attractors\n",
    "\n",
    "\n",
    "attractors = dup(trajectory)\n",
    "\n",
    "for key, value in attractors.items():\n",
    "    print(key, '::', value)\n",
    "    "
   ]
  },
  {
   "cell_type": "code",
   "execution_count": 138,
   "metadata": {},
   "outputs": [
    {
     "name": "stdout",
     "output_type": "stream",
     "text": [
      "{1, 3}\n",
      "2\n"
     ]
    },
    {
     "ename": "TypeError",
     "evalue": "'set' object is not subscriptable",
     "output_type": "error",
     "traceback": [
      "\u001b[1;31m---------------------------------------------------------------------------\u001b[0m",
      "\u001b[1;31mTypeError\u001b[0m                                 Traceback (most recent call last)",
      "\u001b[1;32m<ipython-input-138-5ee1d65cbc88>\u001b[0m in \u001b[0;36m<module>\u001b[1;34m\u001b[0m\n\u001b[0;32m      8\u001b[0m \u001b[0mprint\u001b[0m\u001b[1;33m(\u001b[0m\u001b[0msample_attractors_set\u001b[0m\u001b[1;33m)\u001b[0m\u001b[1;33m\u001b[0m\u001b[1;33m\u001b[0m\u001b[0m\n\u001b[0;32m      9\u001b[0m \u001b[0mprint\u001b[0m\u001b[1;33m(\u001b[0m\u001b[0mlen\u001b[0m\u001b[1;33m(\u001b[0m\u001b[0msample_attractors_set\u001b[0m\u001b[1;33m)\u001b[0m\u001b[1;33m)\u001b[0m\u001b[1;33m\u001b[0m\u001b[1;33m\u001b[0m\u001b[0m\n\u001b[1;32m---> 10\u001b[1;33m \u001b[0mprint\u001b[0m\u001b[1;33m(\u001b[0m\u001b[0msample_attractors_set\u001b[0m\u001b[1;33m[\u001b[0m\u001b[1;36m0\u001b[0m\u001b[1;33m]\u001b[0m\u001b[1;33m)\u001b[0m\u001b[1;33m\u001b[0m\u001b[1;33m\u001b[0m\u001b[0m\n\u001b[0m\u001b[0;32m     11\u001b[0m \u001b[1;32mfor\u001b[0m \u001b[0mi\u001b[0m \u001b[1;32min\u001b[0m \u001b[0mlen\u001b[0m\u001b[1;33m(\u001b[0m\u001b[0msample_attractors_set\u001b[0m\u001b[1;33m)\u001b[0m\u001b[1;33m:\u001b[0m\u001b[1;33m\u001b[0m\u001b[1;33m\u001b[0m\u001b[0m\n\u001b[0;32m     12\u001b[0m     \u001b[0msample_attractos\u001b[0m\u001b[1;33m.\u001b[0m\u001b[0mcount\u001b[0m\u001b[1;33m(\u001b[0m\u001b[0msample_attractors\u001b[0m\u001b[1;33m(\u001b[0m\u001b[1;33m)\u001b[0m\u001b[1;33m)\u001b[0m\u001b[1;33m\u001b[0m\u001b[1;33m\u001b[0m\u001b[0m\n",
      "\u001b[1;31mTypeError\u001b[0m: 'set' object is not subscriptable"
     ]
    }
   ],
   "source": [
    "sample_trajectory = [1,1,2,3,3]\n",
    "sample_attractors = []\n",
    "\n",
    "for item in sample_trajectory:\n",
    "    if sample_trajectory.count(item) > 1:\n",
    "        sample_attractors.append(item)\n",
    "sample_attractors_set = set(sample_attractors)\n",
    "#print(sample_attractors_set)\n",
    "print(len(sample_attractors_set))\n",
    "print(sample_attractors_set[0])\n",
    "for i in len(sample_attractors_set):\n",
    "    sample_attractos.count(sample_attractors())\n",
    "#sample_attractors.count(sample_attractos(i))"
   ]
  },
  {
   "cell_type": "code",
   "execution_count": null,
   "metadata": {},
   "outputs": [],
   "source": []
  }
 ],
 "metadata": {
  "kernelspec": {
   "display_name": "Python 3",
   "language": "python",
   "name": "python3"
  },
  "language_info": {
   "codemirror_mode": {
    "name": "ipython",
    "version": 3
   },
   "file_extension": ".py",
   "mimetype": "text/x-python",
   "name": "python",
   "nbconvert_exporter": "python",
   "pygments_lexer": "ipython3",
   "version": "3.7.4"
  }
 },
 "nbformat": 4,
 "nbformat_minor": 2
}
