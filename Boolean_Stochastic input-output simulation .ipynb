{
 "cells": [
  {
   "cell_type": "code",
   "execution_count": 47,
   "metadata": {},
   "outputs": [],
   "source": [
    "import networkx as nx \n",
    "import matplotlib.pyplot as plt\n",
    "import numpy as np\n",
    "import random "
   ]
  },
  {
   "cell_type": "markdown",
   "metadata": {},
   "source": [
    "#### E1이 켜질 확률 0부터 1까지 랜덤하게 반복, 1000개의 timestep에 대해서 E1의 state 0과 1이 random하게 분포한 array 제작 "
   ]
  },
  {
   "cell_type": "code",
   "execution_count": 120,
   "metadata": {},
   "outputs": [
    {
     "name": "stdout",
     "output_type": "stream",
     "text": [
      "0.12\n",
      "[   0.    1.    2. ...  998.  999. 1000.]\n",
      "(1000,)\n"
     ]
    }
   ],
   "source": [
    "# probability that E1 turns on \n",
    "q = round(random.uniform(0, 1),2)\n",
    "print(q)\n",
    "\n",
    "time = np.linspace(0,1000,1001)\n",
    "print(time)\n",
    "for time in np.linspace(0,1000,1001):\n",
    "\n",
    "    zeros = np.zeros(int(1000*(1-q))) # Among 1000, 900 will be 0, E1 doesn't turn on \n",
    "    ones = np.ones(int(round(1000*q))) # Among 1000, 100 will be 1, E1 turns on with q probability\n",
    "    E1_state = np.append(zeros, ones)\n",
    "    random.shuffle(E1_state)   \n",
    "print(E1_state.shape)"
   ]
  },
  {
   "cell_type": "code",
   "execution_count": 121,
   "metadata": {},
   "outputs": [],
   "source": [
    "#g = nx.Graph()\n",
    "#edges = [('E1', 'N1'),('N1', 'N2'),('N1', 'N3'),('N1', 'N4'),('N2', 'N3'),('N3', 'N1'),('N3','N4'),('N4','N2')]\n",
    "#g.add_edges_from(edges)\n",
    "#graph={}\n",
    "# N1, N2, N3, N4가 logic에 따라, 매 타임포인트마다 synchronous update이 되어야 함\n",
    "##def update(N1, N2, N3, N4): # 각 time 마다의 N1, N2,N3,N4의 state가 있어야 하는데 ex t=1 [N1,N2,N3,N4] state로 되어야 할 것 같음\n",
    "    #def N1(t+1): E1(t) and not N3(t) # N1(E1,N3)\n",
    "    #def N2(t+1): N1(t) and not N4(t) # N2(N1,N4)\n",
    "    #def N3(t+1): N1(t) and not N2(t) # N3(N1,N2)\n",
    "    #def N4(t+1): N1(t) and not N3(t) # N4(N1,N3)\n",
    "\n",
    "    # Array = [E1, N1, N2, N3, N4]\n",
    "    # Array = [0,  1,  2,  3,  4]\n",
    "\n",
    "def update(previous, i):\n",
    "    current = np.zeros(5)\n",
    "    current[0] = E1_state[i]\n",
    "    current[1] = previous[0]*abs(1-previous[3])    # N1[i] = (E1_state(i-1))*N_3(i-1)\n",
    "    current[2] = previous[1]*abs(1-previous[4]) \n",
    "    current[3] = previous[1]*abs(1-previous[2])  \n",
    "    current[4] = previous[1]*abs(1-previous[3])  \n",
    "    return current             \n",
    "\n",
    "previous = np.array([E1_state[0],0,0,0,0])\n",
    "count = np.zeros(5)\n",
    "    \n",
    "for i in range(1000):\n",
    "    current = update(previous, i)\n",
    "    previous = current \n",
    "    \n",
    "    if i >= 700:\n",
    "        count += current"
   ]
  },
  {
   "cell_type": "code",
   "execution_count": 122,
   "metadata": {},
   "outputs": [
    {
     "name": "stdout",
     "output_type": "stream",
     "text": [
      "[39. 36. 33. 33. 33.]\n"
     ]
    }
   ],
   "source": [
    "print(count)"
   ]
  },
  {
   "cell_type": "code",
   "execution_count": 123,
   "metadata": {},
   "outputs": [
    {
     "data": {
      "text/plain": [
       "<function matplotlib.pyplot.show(*args, **kw)>"
      ]
     },
     "execution_count": 123,
     "metadata": {},
     "output_type": "execute_result"
    },
    {
     "data": {
      "image/png": "[encoded data removed]",
      "text/plain": [
       "<Figure size 432x288 with 1 Axes>"
      ]
     },
     "metadata": {
      "needs_background": "light"
     },
     "output_type": "display_data"
    }
   ],
   "source": [
    "#rows, cols = (100, 5) \n",
    "#count = [[0 for i in range(cols)] for j in range(rows)]\n",
    "\n",
    "count_list = np.zeros((100,5))\n",
    "#print(count_list)\n",
    "\n",
    "for i in range(1,100):\n",
    "    q = 0.01*i\n",
    "    zeros = np.zeros(int(round(1000*(1-q)))) # Among 1000, 900 will be 0, E1 doesn't turn on \n",
    "    ones = np.ones(int(round(1000*q))) # Among 1000, 100 will be 1, E1 turns on with q probability\n",
    "    E1_state = np.append(zeros, ones)\n",
    "    random.shuffle(E1_state)\n",
    "    \n",
    "    def update(previous, i):\n",
    "        current = np.zeros(5)\n",
    "        current[0] = E1_state[i]\n",
    "        current[1] = previous[0]*abs(1-previous[3])    # N1[i] = (E1_state(i-1))*N_3(i-1)\n",
    "        current[2] = previous[1]*abs(1-previous[4]) \n",
    "        current[3] = previous[1]*abs(1-previous[2])  \n",
    "        current[4] = previous[1]*abs(1-previous[3])  \n",
    "        return current             \n",
    "\n",
    "    previous = np.array([E1_state[0],0,0,0,0])\n",
    "    count = np.zeros(5)\n",
    "    \n",
    "    for j in range(1000):\n",
    "        current = update(previous, j)\n",
    "        previous = current \n",
    "\n",
    "        if j >= 700:\n",
    "            count += current\n",
    "            \n",
    "    count_list[i] = count\n",
    "    \n",
    "probability = count_list/300\n",
    "\n",
    "plt.plot(np.linspace(0.01, 1, 100),probability[:,1],'bo', color= 'red', alpha=0.5)\n",
    "plt.show\n",
    "#plt.plot(*average_values(times,samples),color='r')\n",
    "#plt.show()"
   ]
  },
  {
   "cell_type": "code",
   "execution_count": 124,
   "metadata": {},
   "outputs": [
    {
     "data": {
      "text/plain": [
       "<function matplotlib.pyplot.show(*args, **kw)>"
      ]
     },
     "execution_count": 124,
     "metadata": {},
     "output_type": "execute_result"
    },
    {
     "data": {
      "image/png": "[encoded data removed]",
      "text/plain": [
       "<Figure size 432x288 with 1 Axes>"
      ]
     },
     "metadata": {
      "needs_background": "light"
     },
     "output_type": "display_data"
    }
   ],
   "source": [
    "plt.plot(np.linspace(0.01, 1, 100),probability[:,2],'bo', color = 'orange',alpha=0.5)\n",
    "plt.show"
   ]
  },
  {
   "cell_type": "code",
   "execution_count": 125,
   "metadata": {},
   "outputs": [
    {
     "data": {
      "text/plain": [
       "<function matplotlib.pyplot.show(*args, **kw)>"
      ]
     },
     "execution_count": 125,
     "metadata": {},
     "output_type": "execute_result"
    },
    {
     "data": {
      "image/png": "[encoded data removed]",
      "text/plain": [
       "<Figure size 432x288 with 1 Axes>"
      ]
     },
     "metadata": {
      "needs_background": "light"
     },
     "output_type": "display_data"
    }
   ],
   "source": [
    "plt.plot(np.linspace(0.01, 1, 100),probability[:,3],'bo', color = 'green',alpha=0.5)\n",
    "plt.show"
   ]
  },
  {
   "cell_type": "code",
   "execution_count": 126,
   "metadata": {},
   "outputs": [
    {
     "data": {
      "text/plain": [
       "<function matplotlib.pyplot.show(*args, **kw)>"
      ]
     },
     "execution_count": 126,
     "metadata": {},
     "output_type": "execute_result"
    },
    {
     "data": {
      "image/png": "[encoded data removed]",
      "text/plain": [
       "<Figure size 432x288 with 1 Axes>"
      ]
     },
     "metadata": {
      "needs_background": "light"
     },
     "output_type": "display_data"
    }
   ],
   "source": [
    "plt.plot(np.linspace(0.01, 1, 100),probability[:,3],'bo', color = 'blue',alpha=0.5)\n",
    "plt.show"
   ]
  },
  {
   "cell_type": "code",
   "execution_count": 106,
   "metadata": {},
   "outputs": [
    {
     "name": "stdout",
     "output_type": "stream",
     "text": [
      "[[0.         0.         0.         0.         0.        ]\n",
      " [0.01       0.01       0.01       0.01       0.01      ]\n",
      " [0.02       0.02       0.02       0.02       0.02      ]\n",
      " [0.03       0.03       0.03       0.03       0.03      ]\n",
      " [0.04333333 0.04333333 0.04333333 0.04333333 0.04333333]\n",
      " [0.05666667 0.05333333 0.05333333 0.05333333 0.05333333]\n",
      " [0.05666667 0.04333333 0.04333333 0.04333333 0.04333333]\n",
      " [0.05       0.05       0.05       0.05       0.05      ]\n",
      " [0.10333333 0.1        0.08666667 0.08666667 0.08666667]\n",
      " [0.07       0.06666667 0.06333333 0.06333333 0.06333333]\n",
      " [0.08333333 0.08333333 0.08       0.08       0.08      ]\n",
      " [0.11333333 0.10333333 0.09666667 0.09666667 0.09666667]\n",
      " [0.13       0.11666667 0.10333333 0.10333333 0.10333333]\n",
      " [0.10333333 0.09666667 0.08666667 0.08666667 0.08666667]\n",
      " [0.15       0.13333333 0.11333333 0.11333333 0.11333333]\n",
      " [0.16666667 0.14333333 0.11666667 0.11666667 0.11666667]\n",
      " [0.17666667 0.16333333 0.13666667 0.13666667 0.13666667]\n",
      " [0.19666667 0.18       0.14       0.14       0.14      ]\n",
      " [0.17       0.14       0.13       0.13       0.13      ]\n",
      " [0.17       0.13666667 0.12333333 0.12333333 0.12333333]\n",
      " [0.16333333 0.13666667 0.11       0.11       0.11      ]\n",
      " [0.19333333 0.16666667 0.13666667 0.13666667 0.13666667]\n",
      " [0.22       0.18333333 0.14666667 0.14666667 0.14666667]\n",
      " [0.27666667 0.22333333 0.18666667 0.18666667 0.18666667]\n",
      " [0.22333333 0.19333333 0.15666667 0.15666667 0.15666667]\n",
      " [0.23333333 0.18333333 0.14333333 0.14333333 0.14333333]\n",
      " [0.27666667 0.22666667 0.18       0.18       0.18      ]\n",
      " [0.27333333 0.23       0.18       0.18       0.18      ]\n",
      " [0.29333333 0.25       0.18666667 0.18666667 0.18666667]\n",
      " [0.33666667 0.27666667 0.19666667 0.19666667 0.19666667]\n",
      " [0.28333333 0.22       0.17333333 0.17333333 0.17333333]\n",
      " [0.34333333 0.27333333 0.2        0.2        0.2       ]\n",
      " [0.3        0.25       0.19       0.19       0.19      ]\n",
      " [0.36       0.28       0.21666667 0.21666667 0.21666667]\n",
      " [0.3        0.24333333 0.18666667 0.18666667 0.18666667]\n",
      " [0.36666667 0.27333333 0.21       0.21       0.21      ]\n",
      " [0.36333333 0.29333333 0.21333333 0.21333333 0.21333333]\n",
      " [0.35666667 0.29       0.21       0.21       0.21      ]\n",
      " [0.38666667 0.29       0.20333333 0.20333333 0.20333333]\n",
      " [0.41       0.31333333 0.24       0.24       0.24      ]\n",
      " [0.42333333 0.33666667 0.23       0.23       0.23      ]\n",
      " [0.42666667 0.32       0.22666667 0.22666667 0.22666667]\n",
      " [0.39       0.30666667 0.22333333 0.22333333 0.22333333]\n",
      " [0.41666667 0.30333333 0.23       0.23       0.23      ]\n",
      " [0.43       0.32       0.23666667 0.23666667 0.23666667]\n",
      " [0.42333333 0.31333333 0.23       0.23       0.23      ]\n",
      " [0.46666667 0.37333333 0.25333333 0.25333333 0.25333333]\n",
      " [0.45666667 0.34333333 0.24       0.24       0.24      ]\n",
      " [0.50333333 0.38       0.24333333 0.24333333 0.24333333]\n",
      " [0.51666667 0.37666667 0.26666667 0.26666667 0.26666667]\n",
      " [0.52666667 0.40666667 0.24666667 0.24666667 0.24666667]\n",
      " [0.49666667 0.37333333 0.26333333 0.26333333 0.26333333]\n",
      " [0.53333333 0.42       0.26666667 0.26666667 0.26666667]\n",
      " [0.52       0.38666667 0.25333333 0.25333333 0.25333333]\n",
      " [0.55666667 0.41333333 0.26       0.26       0.26      ]\n",
      " [0.55       0.41       0.25333333 0.25333333 0.25333333]\n",
      " [0.56333333 0.39666667 0.27       0.27       0.27      ]\n",
      " [0.53666667 0.41666667 0.26333333 0.26333333 0.26333333]\n",
      " [0.57333333 0.42666667 0.27333333 0.27333333 0.27333333]\n",
      " [0.61333333 0.43666667 0.28333333 0.28333333 0.28333333]\n",
      " [0.60666667 0.43333333 0.27333333 0.27333333 0.27333333]\n",
      " [0.60666667 0.43333333 0.27       0.27       0.27      ]\n",
      " [0.63       0.47333333 0.28666667 0.28666667 0.28666667]\n",
      " [0.64666667 0.44666667 0.28333333 0.28333333 0.28333333]\n",
      " [0.65666667 0.45666667 0.28666667 0.28666667 0.28666667]\n",
      " [0.64333333 0.45333333 0.28       0.28       0.28      ]\n",
      " [0.68333333 0.47666667 0.28666667 0.28666667 0.28666667]\n",
      " [0.68333333 0.49333333 0.28666667 0.28666667 0.28666667]\n",
      " [0.68       0.49666667 0.29333333 0.29333333 0.29333333]\n",
      " [0.65333333 0.47       0.28666667 0.28666667 0.28666667]\n",
      " [0.69333333 0.48666667 0.29       0.29       0.29      ]\n",
      " [0.7        0.5        0.29       0.29       0.29      ]\n",
      " [0.72       0.50333333 0.29       0.29       0.29      ]\n",
      " [0.73666667 0.50666667 0.28666667 0.28666667 0.28666667]\n",
      " [0.73333333 0.52333333 0.29666667 0.29666667 0.29666667]\n",
      " [0.75       0.52333333 0.29666667 0.29666667 0.29666667]\n",
      " [0.78666667 0.56666667 0.30666667 0.30666667 0.30666667]\n",
      " [0.77333333 0.52666667 0.29333333 0.29333333 0.29333333]\n",
      " [0.74       0.51       0.3        0.3        0.3       ]\n",
      " [0.78       0.53666667 0.29666667 0.29666667 0.29666667]\n",
      " [0.75       0.52333333 0.29666667 0.29666667 0.29666667]\n",
      " [0.8        0.55333333 0.31       0.31       0.31      ]\n",
      " [0.78333333 0.54333333 0.30333333 0.30333333 0.30333333]\n",
      " [0.77666667 0.55333333 0.30666667 0.30666667 0.30666667]\n",
      " [0.82       0.57333333 0.30666667 0.30666667 0.30666667]\n",
      " [0.86       0.58333333 0.31666667 0.31666667 0.31666667]\n",
      " [0.82666667 0.57333333 0.30666667 0.30666667 0.30666667]\n",
      " [0.84666667 0.58       0.31666667 0.31666667 0.31666667]\n",
      " [0.87333333 0.59333333 0.31333333 0.31333333 0.31333333]\n",
      " [0.9        0.61333333 0.32333333 0.32333333 0.32333333]\n",
      " [0.90333333 0.64       0.32666667 0.32666667 0.32666667]\n",
      " [0.90333333 0.60666667 0.32       0.32       0.32      ]\n",
      " [0.94333333 0.63666667 0.32333333 0.32333333 0.32333333]\n",
      " [0.93333333 0.63       0.32666667 0.32666667 0.32666667]\n",
      " [0.95333333 0.64       0.32666667 0.32666667 0.32666667]\n",
      " [0.94333333 0.63333333 0.32666667 0.32666667 0.32666667]\n",
      " [0.96333333 0.64       0.33       0.33       0.33      ]\n",
      " [0.96       0.64333333 0.33       0.33       0.33      ]\n",
      " [0.98333333 0.65666667 0.33       0.33       0.33      ]\n",
      " [0.99666667 0.66666667 0.33333333 0.33333333 0.33333333]]\n"
     ]
    }
   ],
   "source": [
    "print(probability)   "
   ]
  },
  {
   "cell_type": "code",
   "execution_count": null,
   "metadata": {},
   "outputs": [],
   "source": []
  },
  {
   "cell_type": "code",
   "execution_count": 41,
   "metadata": {},
   "outputs": [
    {
     "ename": "SyntaxError",
     "evalue": "invalid syntax (<ipython-input-41-9a7dc7331018>, line 12)",
     "output_type": "error",
     "traceback": [
      "\u001b[1;36m  File \u001b[1;32m\"<ipython-input-41-9a7dc7331018>\"\u001b[1;36m, line \u001b[1;32m12\u001b[0m\n\u001b[1;33m    print '%s got: %s expected: %s' % (prefix, repr(got), repr(expected))\u001b[0m\n\u001b[1;37m                                  ^\u001b[0m\n\u001b[1;31mSyntaxError\u001b[0m\u001b[1;31m:\u001b[0m invalid syntax\n"
     ]
    }
   ],
   "source": [
    "def sleep_in(weekday, vacation):\n",
    "    # delete the following pass statement and fill in your code below\n",
    "    pass\n",
    "  \n",
    "# Provided simple test() function used in main() to print\n",
    "# what each function returns vs. what it's supposed to return.\n",
    "def test(got, expected):\n",
    "  if got == expected:\n",
    "    prefix = ' OK '\n",
    "  else:\n",
    "    prefix = '  X '\n",
    "  print '%s got: %s expected: %s' % (prefix, repr(got), repr(expected))\n",
    "\n",
    "\n",
    "# Provided main() calls the above functions with interesting inputs,\n",
    "# using test() to check if each result is correct or not.\n",
    "def main():\n",
    "  print 'sleep_in'\n",
    "  # We only sleep in if it is not a weekday or we are on vacation.\n",
    "  test(sleep_in(False, False), True)\n",
    "  test(sleep_in(True, False), False)\n",
    "  test(sleep_in(False, True), True)\n",
    "  test(sleep_in(True, True), True)"
   ]
  },
  {
   "cell_type": "code",
   "execution_count": 28,
   "metadata": {},
   "outputs": [
    {
     "name": "stderr",
     "output_type": "stream",
     "text": [
      "C:\\Users\\sbie\\Anaconda3\\lib\\site-packages\\ipykernel_launcher.py:4: DeprecationWarning: This function is deprecated. Please call randint(1, 10 + 1) instead\n",
      "  after removing the cwd from sys.path.\n"
     ]
    },
    {
     "ename": "NameError",
     "evalue": "name 'times' is not defined",
     "output_type": "error",
     "traceback": [
      "\u001b[1;31m---------------------------------------------------------------------------\u001b[0m",
      "\u001b[1;31mNameError\u001b[0m                                 Traceback (most recent call last)",
      "\u001b[1;32m<ipython-input-28-c46b7cb418ba>\u001b[0m in \u001b[0;36m<module>\u001b[1;34m\u001b[0m\n\u001b[0;32m      5\u001b[0m \u001b[1;33m\u001b[0m\u001b[0m\n\u001b[0;32m      6\u001b[0m     \u001b[1;32mfor\u001b[0m \u001b[0mi\u001b[0m \u001b[1;32min\u001b[0m \u001b[0mrange\u001b[0m\u001b[1;33m(\u001b[0m\u001b[1;36m0\u001b[0m\u001b[1;33m,\u001b[0m\u001b[0mnum_samples\u001b[0m\u001b[1;33m)\u001b[0m\u001b[1;33m:\u001b[0m\u001b[1;33m\u001b[0m\u001b[1;33m\u001b[0m\u001b[0m\n\u001b[1;32m----> 7\u001b[1;33m         \u001b[0mtimes\u001b[0m\u001b[1;33m.\u001b[0m\u001b[0mappend\u001b[0m\u001b[1;33m(\u001b[0m\u001b[0mtime\u001b[0m\u001b[1;33m)\u001b[0m\u001b[1;33m\u001b[0m\u001b[1;33m\u001b[0m\u001b[0m\n\u001b[0m\u001b[0;32m      8\u001b[0m         \u001b[0msamples\u001b[0m\u001b[1;33m.\u001b[0m\u001b[0mappend\u001b[0m\u001b[1;33m(\u001b[0m\u001b[0mnp\u001b[0m\u001b[1;33m.\u001b[0m\u001b[0msin\u001b[0m\u001b[1;33m(\u001b[0m\u001b[0mtime\u001b[0m\u001b[1;33m)\u001b[0m\u001b[1;33m+\u001b[0m\u001b[0mnp\u001b[0m\u001b[1;33m.\u001b[0m\u001b[0mrandom\u001b[0m\u001b[1;33m.\u001b[0m\u001b[0mrandom\u001b[0m\u001b[1;33m(\u001b[0m\u001b[1;33m)\u001b[0m\u001b[1;33m*\u001b[0m\u001b[1;36m0.5\u001b[0m\u001b[1;33m)\u001b[0m\u001b[1;33m\u001b[0m\u001b[1;33m\u001b[0m\u001b[0m\n\u001b[0;32m      9\u001b[0m \u001b[1;33m\u001b[0m\u001b[0m\n",
      "\u001b[1;31mNameError\u001b[0m: name 'times' is not defined"
     ]
    }
   ],
   "source": [
    "for time in np.linspace(0,10,101):\n",
    "\n",
    "    #and a random number of samples at each timestep:\n",
    "    num_samples = np.random.random_integers(1,10)\n",
    "\n",
    "    for i in range(0,num_samples):\n",
    "        times.append(time)\n",
    "        samples.append(np.sin(time)+np.random.random()*0.5)\n",
    "\n",
    "times   = np.array(times)\n",
    "samples = np.array(samples)\n",
    "\n",
    "plt.plot(times,samples,'bo',ms=3,mec=None,alpha=0.5)\n",
    "plt.plot(*average_values(times,samples),color='r')\n",
    "plt.show()"
   ]
  },
  {
   "cell_type": "code",
   "execution_count": null,
   "metadata": {},
   "outputs": [],
   "source": []
  }
 ],
 "metadata": {
  "kernelspec": {
   "display_name": "Python 3",
   "language": "python",
   "name": "python3"
  },
  "language_info": {
   "codemirror_mode": {
    "name": "ipython",
    "version": 3
   },
   "file_extension": ".py",
   "mimetype": "text/x-python",
   "name": "python",
   "nbconvert_exporter": "python",
   "pygments_lexer": "ipython3",
   "version": "3.7.4"
  }
 },
 "nbformat": 4,
 "nbformat_minor": 2
}
