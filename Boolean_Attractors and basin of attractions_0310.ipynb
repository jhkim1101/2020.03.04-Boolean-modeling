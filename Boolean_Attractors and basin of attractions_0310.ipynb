{
 "cells": [
  {
   "cell_type": "code",
   "execution_count": 21,
   "metadata": {},
   "outputs": [],
   "source": [
    "import numpy as np\n",
    "import itertools "
   ]
  },
  {
   "cell_type": "code",
   "execution_count": 23,
   "metadata": {},
   "outputs": [
    {
     "ename": "ValueError",
     "evalue": "too many values to unpack (expected 0)",
     "output_type": "error",
     "traceback": [
      "\u001b[1;31m---------------------------------------------------------------------------\u001b[0m",
      "\u001b[1;31mValueError\u001b[0m                                Traceback (most recent call last)",
      "\u001b[1;32m<ipython-input-23-2b9b3268f08a>\u001b[0m in \u001b[0;36m<module>\u001b[1;34m\u001b[0m\n\u001b[0;32m      5\u001b[0m \u001b[0minitial\u001b[0m \u001b[1;33m=\u001b[0m \u001b[0mnp\u001b[0m\u001b[1;33m.\u001b[0m\u001b[0marray\u001b[0m\u001b[1;33m(\u001b[0m\u001b[1;33m[\u001b[0m\u001b[1;33m[\u001b[0m\u001b[1;36m0\u001b[0m\u001b[1;33m,\u001b[0m \u001b[1;36m0\u001b[0m\u001b[1;33m]\u001b[0m\u001b[1;33m,\u001b[0m\u001b[1;33m[\u001b[0m\u001b[1;36m0\u001b[0m\u001b[1;33m,\u001b[0m \u001b[1;36m1\u001b[0m\u001b[1;33m]\u001b[0m\u001b[1;33m,\u001b[0m\u001b[1;33m[\u001b[0m\u001b[1;36m1\u001b[0m\u001b[1;33m,\u001b[0m \u001b[1;36m0\u001b[0m\u001b[1;33m]\u001b[0m\u001b[1;33m,\u001b[0m\u001b[1;33m[\u001b[0m\u001b[1;36m1\u001b[0m\u001b[1;33m,\u001b[0m \u001b[1;36m1\u001b[0m\u001b[1;33m]\u001b[0m\u001b[1;33m]\u001b[0m\u001b[1;33m)\u001b[0m\u001b[1;33m\u001b[0m\u001b[1;33m\u001b[0m\u001b[0m\n\u001b[0;32m      6\u001b[0m \u001b[1;33m\u001b[0m\u001b[0m\n\u001b[1;32m----> 7\u001b[1;33m \u001b[0mtrajectory\u001b[0m \u001b[1;33m=\u001b[0m \u001b[1;33m[\u001b[0m\u001b[1;33m]\u001b[0m \u001b[1;33m=\u001b[0m \u001b[0minitial\u001b[0m\u001b[1;33m.\u001b[0m\u001b[0mdot\u001b[0m\u001b[1;33m(\u001b[0m\u001b[0mlogic\u001b[0m\u001b[1;33m)\u001b[0m\u001b[1;33m\u001b[0m\u001b[1;33m\u001b[0m\u001b[0m\n\u001b[0m\u001b[0;32m      8\u001b[0m \u001b[0mprint\u001b[0m\u001b[1;33m(\u001b[0m\u001b[0mtrajectory\u001b[0m\u001b[1;33m)\u001b[0m\u001b[1;33m\u001b[0m\u001b[1;33m\u001b[0m\u001b[0m\n",
      "\u001b[1;31mValueError\u001b[0m: too many values to unpack (expected 0)"
     ]
    }
   ],
   "source": [
    "# simple case; starts with 2 nodes and simple logic \n",
    "# all nodes \n",
    "logic = np.array([[1,0],\n",
    "                  [-2,1]])\n",
    "initial = np.array([[0, 0],[0, 1],[1, 0],[1, 1]])\n",
    "\n",
    "trajectory = [] = initial.dot(logic)\n",
    "print(trajectory)"
   ]
  },
  {
   "cell_type": "code",
   "execution_count": 73,
   "metadata": {},
   "outputs": [
    {
     "ename": "SyntaxError",
     "evalue": "invalid syntax (<ipython-input-73-619211bd7c07>, line 20)",
     "output_type": "error",
     "traceback": [
      "\u001b[1;36m  File \u001b[1;32m\"<ipython-input-73-619211bd7c07>\"\u001b[1;36m, line \u001b[1;32m20\u001b[0m\n\u001b[1;33m    else:\u001b[0m\n\u001b[1;37m       ^\u001b[0m\n\u001b[1;31mSyntaxError\u001b[0m\u001b[1;31m:\u001b[0m invalid syntax\n"
     ]
    }
   ],
   "source": [
    "# number = 10 by 2^10 array \n",
    "#initial_state = np.array((2^10, 10))\n",
    "\n",
    "ini_state = [list(i) for i in itertools.product([0,1], repeat=3)] # able to change repeat value \n",
    "print(ini_state[0])\n",
    "#logic_n10 = np.array([[1,0],[-2,1],[2,3],[-2,-4],[1,0],[5,0],[-3,1],[1,-1],[2,2],[3,-2]])\n",
    "logic_n3 = np.array([[1,0,1],[-2,3,1],[-3,1,2]])\n",
    "#print(logic_n10)\n",
    "#def next_state():\n",
    "\n",
    "trajectory =[]\n",
    "\n",
    "for i in range(0,7): # 2^n -1 \n",
    "    trajectory.append(ini_state[i])\n",
    "    next_state = logic_n3.dot(ini_state[i])\n",
    "    \n",
    "    for k in range(0,2):\n",
    "         if next_state[k] >= 0:\n",
    "                next_state[k] ==1\n",
    "                else:\n",
    "                next_state[k] <0:\n",
    "                    next_state[k] ==0             \n",
    "                \n",
    "                trajectory.append(next_state)\n",
    "                \n",
    "                # if specific array in trajectory -> assign it as attractor\n",
    "                # trajcetory에 이미 존재한다면 끌개로 분류한 다음에 끌개 저장 공강 및 끌개유역크기 저장배열을 만들고, 끌개 유역 크기 저장배열에 1을 입력\n",
    "                # 다음 끌개 만들때 이미 존재하는 끌개라면 끌개 크기 하나 더 만들고 다음 끌개 저장공간에 저장 \n",
    "                # 만약 없다면 저장하고 초기조건 다음 array에 대해서 한다. \n",
    "                \n",
    "                \n",
    "print(next_state)\n",
    "print(type(next_state))"
   ]
  },
  {
   "cell_type": "code",
   "execution_count": null,
   "metadata": {},
   "outputs": [],
   "source": []
  },
  {
   "cell_type": "code",
   "execution_count": null,
   "metadata": {},
   "outputs": [],
   "source": []
  }
 ],
 "metadata": {
  "kernelspec": {
   "display_name": "Python 3",
   "language": "python",
   "name": "python3"
  },
  "language_info": {
   "codemirror_mode": {
    "name": "ipython",
    "version": 3
   },
   "file_extension": ".py",
   "mimetype": "text/x-python",
   "name": "python",
   "nbconvert_exporter": "python",
   "pygments_lexer": "ipython3",
   "version": "3.7.4"
  }
 },
 "nbformat": 4,
 "nbformat_minor": 2
}
